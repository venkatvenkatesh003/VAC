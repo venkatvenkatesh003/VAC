{
 "cells": [
  {
   "cell_type": "markdown",
   "id": "c8054159",
   "metadata": {},
   "source": [
    "# VARIABLES AND DATA TYPES"
   ]
  },
  {
   "cell_type": "code",
   "execution_count": 1,
   "id": "9c3f5a62",
   "metadata": {},
   "outputs": [],
   "source": [
    "NAME=\"MUGUNTHAN\""
   ]
  },
  {
   "cell_type": "code",
   "execution_count": 2,
   "id": "9209929f",
   "metadata": {},
   "outputs": [],
   "source": [
    "Name=\"viswa\""
   ]
  },
  {
   "cell_type": "code",
   "execution_count": 3,
   "id": "fd22a18b",
   "metadata": {},
   "outputs": [],
   "source": [
    "nAme=\"vetriselvan\""
   ]
  },
  {
   "cell_type": "code",
   "execution_count": 4,
   "id": "b51765b5",
   "metadata": {},
   "outputs": [],
   "source": [
    "namE=\"pds\""
   ]
  },
  {
   "cell_type": "code",
   "execution_count": 5,
   "id": "120cc2ca",
   "metadata": {},
   "outputs": [
    {
     "data": {
      "text/plain": [
       "'viswa'"
      ]
     },
     "execution_count": 5,
     "metadata": {},
     "output_type": "execute_result"
    }
   ],
   "source": [
    "Name"
   ]
  },
  {
   "cell_type": "code",
   "execution_count": 6,
   "id": "136086e9",
   "metadata": {},
   "outputs": [],
   "source": [
    "_n=5"
   ]
  },
  {
   "cell_type": "code",
   "execution_count": 7,
   "id": "cc4d6b0c",
   "metadata": {},
   "outputs": [],
   "source": [
    "n1=10"
   ]
  },
  {
   "cell_type": "code",
   "execution_count": 8,
   "id": "4bf3be25",
   "metadata": {},
   "outputs": [
    {
     "ename": "SyntaxError",
     "evalue": "invalid syntax (4131046434.py, line 1)",
     "output_type": "error",
     "traceback": [
      "\u001b[1;36m  Cell \u001b[1;32mIn[8], line 1\u001b[1;36m\u001b[0m\n\u001b[1;33m    1n=10\u001b[0m\n\u001b[1;37m     ^\u001b[0m\n\u001b[1;31mSyntaxError\u001b[0m\u001b[1;31m:\u001b[0m invalid syntax\n"
     ]
    }
   ],
   "source": [
    "1n=10"
   ]
  },
  {
   "cell_type": "code",
   "execution_count": 9,
   "id": "a634c0c0",
   "metadata": {},
   "outputs": [],
   "source": [
    "name1,name2=\"pds\",\"c\""
   ]
  },
  {
   "cell_type": "code",
   "execution_count": 10,
   "id": "4b8df7af",
   "metadata": {},
   "outputs": [
    {
     "data": {
      "text/plain": [
       "'pds'"
      ]
     },
     "execution_count": 10,
     "metadata": {},
     "output_type": "execute_result"
    }
   ],
   "source": [
    "name1"
   ]
  },
  {
   "cell_type": "code",
   "execution_count": 11,
   "id": "ee5a27b2",
   "metadata": {},
   "outputs": [
    {
     "data": {
      "text/plain": [
       "str"
      ]
     },
     "execution_count": 11,
     "metadata": {},
     "output_type": "execute_result"
    }
   ],
   "source": [
    "type(name1)"
   ]
  },
  {
   "cell_type": "code",
   "execution_count": 12,
   "id": "105d3c0a",
   "metadata": {},
   "outputs": [
    {
     "data": {
      "text/plain": [
       "'c'"
      ]
     },
     "execution_count": 12,
     "metadata": {},
     "output_type": "execute_result"
    }
   ],
   "source": [
    "name2"
   ]
  },
  {
   "cell_type": "code",
   "execution_count": 13,
   "id": "f78f32af",
   "metadata": {},
   "outputs": [
    {
     "data": {
      "text/plain": [
       "str"
      ]
     },
     "execution_count": 13,
     "metadata": {},
     "output_type": "execute_result"
    }
   ],
   "source": [
    "type(name2)"
   ]
  },
  {
   "cell_type": "code",
   "execution_count": 14,
   "id": "547ac615",
   "metadata": {},
   "outputs": [],
   "source": [
    "day=3"
   ]
  },
  {
   "cell_type": "code",
   "execution_count": 15,
   "id": "a87d47fa",
   "metadata": {},
   "outputs": [
    {
     "data": {
      "text/plain": [
       "int"
      ]
     },
     "execution_count": 15,
     "metadata": {},
     "output_type": "execute_result"
    }
   ],
   "source": [
    "type(day)"
   ]
  },
  {
   "cell_type": "code",
   "execution_count": 16,
   "id": "4347eaf8",
   "metadata": {},
   "outputs": [],
   "source": [
    "day2=\"1000\""
   ]
  },
  {
   "cell_type": "code",
   "execution_count": 17,
   "id": "36cbde98",
   "metadata": {},
   "outputs": [
    {
     "data": {
      "text/plain": [
       "str"
      ]
     },
     "execution_count": 17,
     "metadata": {},
     "output_type": "execute_result"
    }
   ],
   "source": [
    "type(day2)"
   ]
  },
  {
   "cell_type": "code",
   "execution_count": 18,
   "id": "08b195a0",
   "metadata": {},
   "outputs": [
    {
     "data": {
      "text/plain": [
       "'1000'"
      ]
     },
     "execution_count": 18,
     "metadata": {},
     "output_type": "execute_result"
    }
   ],
   "source": [
    "day2"
   ]
  },
  {
   "cell_type": "code",
   "execution_count": 19,
   "id": "d6242c08",
   "metadata": {},
   "outputs": [
    {
     "name": "stdout",
     "output_type": "stream",
     "text": [
      "1000\n"
     ]
    }
   ],
   "source": [
    "print(day2)"
   ]
  },
  {
   "cell_type": "code",
   "execution_count": 20,
   "id": "9b6e019c",
   "metadata": {},
   "outputs": [
    {
     "data": {
      "text/plain": [
       "3"
      ]
     },
     "execution_count": 20,
     "metadata": {},
     "output_type": "execute_result"
    }
   ],
   "source": [
    "day"
   ]
  },
  {
   "cell_type": "code",
   "execution_count": 21,
   "id": "1ea6f6e0",
   "metadata": {},
   "outputs": [
    {
     "name": "stdout",
     "output_type": "stream",
     "text": [
      "bjaSG\n"
     ]
    }
   ],
   "source": [
    "print(\"bjaSG\")"
   ]
  },
  {
   "cell_type": "code",
   "execution_count": 22,
   "id": "cfd05eaf",
   "metadata": {},
   "outputs": [
    {
     "name": "stdout",
     "output_type": "stream",
     "text": [
      "this is DATA analytics VAC\n"
     ]
    }
   ],
   "source": [
    "print(\"this is DATA analytics VAC\")"
   ]
  },
  {
   "cell_type": "code",
   "execution_count": 23,
   "id": "c8efc257",
   "metadata": {},
   "outputs": [],
   "source": [
    "vac=\"data analytics\""
   ]
  },
  {
   "cell_type": "code",
   "execution_count": 24,
   "id": "ce6fc2d1",
   "metadata": {},
   "outputs": [
    {
     "name": "stdout",
     "output_type": "stream",
     "text": [
      "data analytics\n"
     ]
    }
   ],
   "source": [
    "print(vac)"
   ]
  },
  {
   "cell_type": "markdown",
   "id": "92ddc847",
   "metadata": {},
   "source": [
    "# f\"print"
   ]
  },
  {
   "cell_type": "code",
   "execution_count": 25,
   "id": "0975896d",
   "metadata": {},
   "outputs": [
    {
     "name": "stdout",
     "output_type": "stream",
     "text": [
      "this is data analytics classdata analytics jhjh data analytics\n"
     ]
    }
   ],
   "source": [
    "a=print(f\"this is {vac} class{vac} jhjh {vac}\")"
   ]
  },
  {
   "cell_type": "markdown",
   "id": "6efb99f3",
   "metadata": {},
   "source": [
    "# .format"
   ]
  },
  {
   "cell_type": "code",
   "execution_count": null,
   "id": "90ef1c09",
   "metadata": {},
   "outputs": [],
   "source": [
    "print(\"Iam {}. iam studying in {}. Iam in {} year \".format('PRADISH','PMIST','SECOND'))"
   ]
  },
  {
   "cell_type": "code",
   "execution_count": null,
   "id": "73a768f1",
   "metadata": {},
   "outputs": [],
   "source": [
    "name=\"PDS\"\n",
    "college=\"PMIST\"\n",
    "year=2"
   ]
  },
  {
   "cell_type": "code",
   "execution_count": null,
   "id": "b0bb6413",
   "metadata": {},
   "outputs": [],
   "source": [
    "print(\"Iam {}. iam studying in {}. Iam in {} year \".format(name,college,year))"
   ]
  },
  {
   "cell_type": "code",
   "execution_count": null,
   "id": "c98b282d",
   "metadata": {},
   "outputs": [],
   "source": [
    "print(\"Iam {Name}. iam studying in {College}. Iam in {Year} year \".format(Name='PRADISH',College='PMIST',Year='SECOND'))"
   ]
  },
  {
   "cell_type": "markdown",
   "id": "a0dc4622",
   "metadata": {},
   "source": [
    "# Data types\n",
    "\n",
    "\n",
    "Numeric- integer,Float,Complex\n",
    "String- string/character\n",
    "sequence- Array, List,Tuple,Range,\n",
    "Mapping-Dictionary\n",
    "Set- Set,Frozen set\n",
    "Boolean\n",
    "Binary-Byte,Byte array,memomoryview\n",
    "\n"
   ]
  },
  {
   "cell_type": "code",
   "execution_count": 3,
   "id": "610c1bee",
   "metadata": {},
   "outputs": [],
   "source": [
    "Name=\"Pradish\"\n",
    "Designation=\"Robotics Engineer\"\n",
    "Company=\"Prag Robotics\""
   ]
  },
  {
   "cell_type": "code",
   "execution_count": 2,
   "id": "89ee5923",
   "metadata": {},
   "outputs": [
    {
     "name": "stdout",
     "output_type": "stream",
     "text": [
      "Iam pradish, robotics engineer from Prag Robotics\n"
     ]
    }
   ],
   "source": [
    "print(\"Iam pradish, robotics engineer from Prag Robotics\")"
   ]
  },
  {
   "cell_type": "code",
   "execution_count": 6,
   "id": "e87a7c1f",
   "metadata": {},
   "outputs": [
    {
     "name": "stdout",
     "output_type": "stream",
     "text": [
      "Iam Pradish, Robotics Engineer from Prag Robotics\n"
     ]
    }
   ],
   "source": [
    "print(f\"Iam {Name}, {Designation} from {Company}\")"
   ]
  },
  {
   "cell_type": "code",
   "execution_count": 9,
   "id": "c61e4a00",
   "metadata": {},
   "outputs": [
    {
     "name": "stdout",
     "output_type": "stream",
     "text": [
      "Iam Pradish, Robotics Engineer from Prag Robotics\n"
     ]
    }
   ],
   "source": [
    "print(\"Iam {Name}, {Designation} from {Company}\".format(Name=\"Pradish\",Designation=\"Robotics Engineer\",Company=\"Prag Robotics\"))"
   ]
  },
  {
   "cell_type": "markdown",
   "id": "5476e095",
   "metadata": {},
   "source": [
    "# List"
   ]
  },
  {
   "cell_type": "code",
   "execution_count": 38,
   "id": "885b164b",
   "metadata": {},
   "outputs": [],
   "source": [
    "Lang=['python','c++','c','R','Java','HTML',10]"
   ]
  },
  {
   "cell_type": "code",
   "execution_count": 28,
   "id": "f8e2016f",
   "metadata": {},
   "outputs": [
    {
     "data": {
      "text/plain": [
       "list"
      ]
     },
     "execution_count": 28,
     "metadata": {},
     "output_type": "execute_result"
    }
   ],
   "source": [
    "type(Lang)"
   ]
  },
  {
   "cell_type": "code",
   "execution_count": 29,
   "id": "feb0b68c",
   "metadata": {},
   "outputs": [
    {
     "data": {
      "text/plain": [
       "'python'"
      ]
     },
     "execution_count": 29,
     "metadata": {},
     "output_type": "execute_result"
    }
   ],
   "source": [
    "Lang[0]"
   ]
  },
  {
   "cell_type": "code",
   "execution_count": 30,
   "id": "9a1586a0",
   "metadata": {},
   "outputs": [
    {
     "name": "stdout",
     "output_type": "stream",
     "text": [
      "python is the language we use for data Analysis\n",
      "c++ is the base language for all other languages\n",
      "Java is a Scripting language\n",
      "HTML is a markup language\n"
     ]
    }
   ],
   "source": [
    "print(f\"{Lang[0]} is the language we use for data Analysis\")\n",
    "print(f\"{Lang[1]} is the base language for all other languages\")\n",
    "print(f\"{Lang[4]} is a Scripting language\")\n",
    "print(f\"{Lang[5]} is a markup language\")"
   ]
  },
  {
   "cell_type": "code",
   "execution_count": 39,
   "id": "ebbf7247",
   "metadata": {},
   "outputs": [
    {
     "data": {
      "text/plain": [
       "7"
      ]
     },
     "execution_count": 39,
     "metadata": {},
     "output_type": "execute_result"
    }
   ],
   "source": [
    "len(Lang)"
   ]
  },
  {
   "cell_type": "code",
   "execution_count": null,
   "id": "362acdda",
   "metadata": {},
   "outputs": [],
   "source": []
  }
 ],
 "metadata": {
  "kernelspec": {
   "display_name": "Python 3 (ipykernel)",
   "language": "python",
   "name": "python3"
  },
  "language_info": {
   "codemirror_mode": {
    "name": "ipython",
    "version": 3
   },
   "file_extension": ".py",
   "mimetype": "text/x-python",
   "name": "python",
   "nbconvert_exporter": "python",
   "pygments_lexer": "ipython3",
   "version": "3.9.16"
  }
 },
 "nbformat": 4,
 "nbformat_minor": 5
}
